{
 "cells": [
  {
   "cell_type": "code",
   "execution_count": 2,
   "id": "7732e9e7-367d-4790-81ef-bd4b15438c78",
   "metadata": {},
   "outputs": [],
   "source": [
    "import pandas as pd\n",
    "import seaborn as sns\n",
    "import matplotlib.pyplot as plt\n",
    "\n",
    "df = pd.read_csv(\"CS105 Spring'25 Mini-Project Survey (Responses).csv\")\n",
    "\n",
    "# drop all unnecessary columns\n",
    "columns_to_drop = [1]\n",
    "columns_to_drop.extend(range(14, 20))\n",
    "columns_to_drop.extend(range(50, 107))\n",
    "columns_to_drop.extend(range(112, 175))\n",
    "columns_to_drop.extend(range(40, 50))\n",
    "columns_to_drop.extend([34, 35])\n",
    "\n",
    "df = df.drop(df.columns[columns_to_drop], axis=1)"
   ]
  },
  {
   "cell_type": "code",
   "execution_count": 6,
   "id": "0b71abff-54a8-4824-8900-b8654b60fd52",
   "metadata": {},
   "outputs": [
    {
     "name": "stdout",
     "output_type": "stream",
     "text": [
      "<class 'pandas.core.frame.DataFrame'>\n",
      "Index: 194 entries, 0 to 220\n",
      "Data columns (total 36 columns):\n",
      " #   Column                                                                                                                                                                                                                                                              Non-Null Count  Dtype \n",
      "---  ------                                                                                                                                                                                                                                                              --------------  ----- \n",
      " 0   Timestamp                                                                                                                                                                                                                                                           193 non-null    object\n",
      " 1   What is your current class standing?                                                                                                                                                                                                                                194 non-null    object\n",
      " 2   Are you a transfer student?                                                                                                                                                                                                                                         194 non-null    object\n",
      " 3   What is your major/minor? (If your major is not listed, please write it in \"Other..\")                                                                                                                                                                               194 non-null    object\n",
      " 4   Rank the following reasons on why you chose CS (CSBA) or DS as your major or minor? [Interest in technology and problem-solving]                                                                                                                                    194 non-null    int64 \n",
      " 5   Rank the following reasons on why you chose CS (CSBA) or DS as your major or minor? [Fascination with data analysis and decision-making]                                                                                                                            194 non-null    int64 \n",
      " 6   Rank the following reasons on why you chose CS (CSBA) or DS as your major or minor? [Enjoyment of coding, programming, and building applications]                                                                                                                   194 non-null    int64 \n",
      " 7   Rank the following reasons on why you chose CS (CSBA) or DS as your major or minor? [Strong job prospects and high earning potential]                                                                                                                               194 non-null    int64 \n",
      " 8   Rank the following reasons on why you chose CS (CSBA) or DS as your major or minor? [Encouragement or advice from family members, mentors, or educators]                                                                                                            194 non-null    int64 \n",
      " 9   Rank the following reasons on why you chose CS (CSBA) or DS as your major or minor? [Pressure from family members]                                                                                                                                                  194 non-null    int64 \n",
      " 10  Rank the following reasons on why you chose CS (CSBA) or DS as your major or minor? [One or more of my family members or friends work in this area]                                                                                                                 194 non-null    int64 \n",
      " 11  Have you ever thought about changing your major? If so, what were the reasons? Choose all that apply.                                                                                                                                                               194 non-null    object\n",
      " 12  What is your current cumulative GPA?                                                                                                                                                                                                                                194 non-null    object\n",
      " 13  Rank your top 3 preferred domains of interest in computer science? For options not chosen, select \"Not applicable.\" [Software Engineering]                                                                                                                          194 non-null    object\n",
      " 14  Rank your top 3 preferred domains of interest in computer science? For options not chosen, select \"Not applicable.\" [Web Development]                                                                                                                               194 non-null    object\n",
      " 15  Rank your top 3 preferred domains of interest in computer science? For options not chosen, select \"Not applicable.\" [Data Science]                                                                                                                                  194 non-null    object\n",
      " 16  Rank your top 3 preferred domains of interest in computer science? For options not chosen, select \"Not applicable.\" [Computer security and cryptography]                                                                                                            194 non-null    object\n",
      " 17  Rank your top 3 preferred domains of interest in computer science? For options not chosen, select \"Not applicable.\" [Databases]                                                                                                                                     194 non-null    object\n",
      " 18  Rank your top 3 preferred domains of interest in computer science? For options not chosen, select \"Not applicable.\" [Algorithms]                                                                                                                                    194 non-null    object\n",
      " 19  Rank your top 3 preferred domains of interest in computer science? For options not chosen, select \"Not applicable.\" [Game Development]                                                                                                                              194 non-null    object\n",
      " 20  Rank your top 3 preferred domains of interest in computer science? For options not chosen, select \"Not applicable.\" [Networks]                                                                                                                                      194 non-null    object\n",
      " 21  Rank your top 3 preferred domains of interest in computer science? For options not chosen, select \"Not applicable.\" [Machine Learning, Data Mining, NLP, AI]                                                                                                        194 non-null    object\n",
      " 22  Rank your top 3 preferred domains of interest in computer science? For options not chosen, select \"Not applicable.\" [Computer Architecture]                                                                                                                         194 non-null    object\n",
      " 23  Rank your top 3 preferred domains of interest in computer science? For options not chosen, select \"Not applicable.\" [Embedded systems]                                                                                                                              194 non-null    object\n",
      " 24  Rank your top 3 preferred domains of interest in computer science? For options not chosen, select \"Not applicable.\" [Computer Graphics]                                                                                                                             194 non-null    object\n",
      " 25  Around what time did you become interested in CS/DS?                                                                                                                                                                                                                194 non-null    object\n",
      " 26  Which of the following computer science programs or courses did you take during high school? Select all that apply.                                                                                                                                                 194 non-null    object\n",
      " 27  Answer the following questions regarding CS/DS [I feel motivated to expand my CS/DS knowledge and skills beyond UCR’s core curriculum.]                                                                                                                             194 non-null    int64 \n",
      " 28  Answer the following questions regarding CS/DS [I feel satisfied with the CS/DS courses I have taken at UCR]                                                                                                                                                        194 non-null    int64 \n",
      " 29  Answer the following questions regarding CS/DS [I have a clear reason for choosing CS/DS as my major.]                                                                                                                                                              194 non-null    int64 \n",
      " 30  Answer the following questions regarding CS/DS [I have considered changing my major to something outside of CS/DS / I have considered no longer pursuing a minor in DS and other CS related majors / I have considered taking no more CS/DS classes in the future]  194 non-null    int64 \n",
      " 31  Indicate how accurately the following statements about coding apply to you: [The code/programs I produce are exceptional]                                                                                                                                           194 non-null    int64 \n",
      " 32  Indicate how accurately the following statements about coding apply to you: [I am very comfortable with programming/writing code.]                                                                                                                                  194 non-null    int64 \n",
      " 33  Indicate how accurately the following statements about coding apply to you: [I enjoy coding in an academic setting.]                                                                                                                                                194 non-null    int64 \n",
      " 34  Indicate how accurately the following statements about coding apply to you: [I enjoy coding outside of an academic setting.]                                                                                                                                        194 non-null    int64 \n",
      " 35  Indicate how accurately the following statements about coding apply to you: [I often feel discouraged when coding.]                                                                                                                                                 194 non-null    int64 \n",
      "dtypes: int64(16), object(20)\n",
      "memory usage: 56.1+ KB\n"
     ]
    }
   ],
   "source": [
    "# rename timestamp column\n",
    "df = df.rename(columns={'Column 1' : 'Timestamp'})\n",
    "\n",
    "# drop non-CS/DS majors because it is irrelevant to our question\n",
    "cols_to_check = df.columns[4:11]\n",
    "df = df[~df[cols_to_check].isin([\"N/A, I am neither a CS or DS major/minor\"]).any(axis=1)]\n",
    "\n",
    "\n",
    "# simplify column data\n",
    "cols_to_process = df.columns[4:11]\n",
    "df[cols_to_process] = df[cols_to_process].replace(r'^(\\d+).*', r'\\1', regex=True).astype(int)\n",
    "\n",
    "cols_to_process = df.columns[31:36]\n",
    "df[cols_to_process] = df[cols_to_process].replace(r'^(\\d+).*', r'\\1', regex=True).astype(int)\n",
    "\n",
    "response_map = {\"Strongly Disagree\": 1, \"Slightly Disagree\": 2, \"Not Applicable\": 3, \"Slightly Agree\": 4, \"Strongly Agree\": 5}\n",
    "cols_to_process = df.columns[27:31]\n",
    "df[cols_to_process] = df[cols_to_process].replace(response_map).infer_objects(copy=False)\n",
    "\n",
    "df.to_csv('cleaned_data_comparison_test.csv', index=False)"
   ]
  },
  {
   "cell_type": "code",
   "execution_count": null,
   "id": "e997434d-530b-488e-ad08-e711ac81f82b",
   "metadata": {},
   "outputs": [],
   "source": []
  }
 ],
 "metadata": {
  "kernelspec": {
   "display_name": "Python [conda env:base] *",
   "language": "python",
   "name": "conda-base-py"
  },
  "language_info": {
   "codemirror_mode": {
    "name": "ipython",
    "version": 3
   },
   "file_extension": ".py",
   "mimetype": "text/x-python",
   "name": "python",
   "nbconvert_exporter": "python",
   "pygments_lexer": "ipython3",
   "version": "3.12.2"
  }
 },
 "nbformat": 4,
 "nbformat_minor": 5
}
